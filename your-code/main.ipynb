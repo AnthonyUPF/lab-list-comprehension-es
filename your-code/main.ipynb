{
 "cells": [
  {
   "cell_type": "markdown",
   "metadata": {},
   "source": [
    "# List Comprehensions\n",
    "\n",
    "Completa el siguiente conjunto de ejercicios para solidificar tu conocimiento sobre las comprensiones de lista."
   ]
  },
  {
   "cell_type": "code",
   "execution_count": 1,
   "metadata": {},
   "outputs": [],
   "source": [
    "import os"
   ]
  },
  {
   "cell_type": "markdown",
   "metadata": {},
   "source": [
    "#### 1. Usa una list comprehension para crear e imprimir una lista de enteros consecutivos que comience con 1 y termine con 50."
   ]
  },
  {
   "cell_type": "code",
   "execution_count": 2,
   "metadata": {},
   "outputs": [
    {
     "name": "stdout",
     "output_type": "stream",
     "text": [
      "[1, 2, 3, 4, 5, 6, 7, 8, 9, 10, 11, 12, 13, 14, 15, 16, 17, 18, 19, 20, 21, 22, 23, 24, 25, 26, 27, 28, 29, 30, 31, 32, 33, 34, 35, 36, 37, 38, 39, 40, 41, 42, 43, 44, 45, 46, 47, 48, 49, 50]\n"
     ]
    }
   ],
   "source": [
    "list1=[i for i in range(1,51)]\n",
    "print(list1)"
   ]
  },
  {
   "cell_type": "markdown",
   "metadata": {},
   "source": [
    "#### 2. Usa una list comprehension para crear y imprimir una lista de numeros pares entre 2 y 200."
   ]
  },
  {
   "cell_type": "code",
   "execution_count": 3,
   "metadata": {},
   "outputs": [
    {
     "name": "stdout",
     "output_type": "stream",
     "text": [
      "[2, 4, 6, 8, 10, 12, 14, 16, 18, 20, 22, 24, 26, 28, 30, 32, 34, 36, 38, 40, 42, 44, 46, 48, 50, 52, 54, 56, 58, 60, 62, 64, 66, 68, 70, 72, 74, 76, 78, 80, 82, 84, 86, 88, 90, 92, 94, 96, 98, 100, 102, 104, 106, 108, 110, 112, 114, 116, 118, 120, 122, 124, 126, 128, 130, 132, 134, 136, 138, 140, 142, 144, 146, 148, 150, 152, 154, 156, 158, 160, 162, 164, 166, 168, 170, 172, 174, 176, 178, 180, 182, 184, 186, 188, 190, 192, 194, 196, 198, 200]\n"
     ]
    }
   ],
   "source": [
    "list2=[i for i in range(2,201) if i%2==0]\n",
    "print(list2)"
   ]
  },
  {
   "cell_type": "markdown",
   "metadata": {},
   "source": [
    "#### 3. Usa una comprensión de lista para crear e imprimir una lista que contenga todos los elementos del siguiente array de 10 x 4."
   ]
  },
  {
   "cell_type": "code",
   "execution_count": 4,
   "metadata": {},
   "outputs": [],
   "source": [
    "a = [[0.84062117, 0.48006452, 0.7876326 , 0.77109654],\n",
    "       [0.44409793, 0.09014516, 0.81835917, 0.87645456],\n",
    "       [0.7066597 , 0.09610873, 0.41247947, 0.57433389],\n",
    "       [0.29960807, 0.42315023, 0.34452557, 0.4751035 ],\n",
    "       [0.17003563, 0.46843998, 0.92796258, 0.69814654],\n",
    "       [0.41290051, 0.19561071, 0.16284783, 0.97016248],\n",
    "       [0.71725408, 0.87702738, 0.31244595, 0.76615487],\n",
    "       [0.20754036, 0.57871812, 0.07214068, 0.40356048],\n",
    "       [0.12149553, 0.53222417, 0.9976855 , 0.12536346],\n",
    "       [0.80930099, 0.50962849, 0.94555126, 0.33364763]];"
   ]
  },
  {
   "cell_type": "code",
   "execution_count": 5,
   "metadata": {},
   "outputs": [
    {
     "name": "stdout",
     "output_type": "stream",
     "text": [
      "[0.84062117, 0.48006452, 0.7876326, 0.77109654, 0.44409793, 0.09014516, 0.81835917, 0.87645456, 0.7066597, 0.09610873, 0.41247947, 0.57433389, 0.29960807, 0.42315023, 0.34452557, 0.4751035, 0.17003563, 0.46843998, 0.92796258, 0.69814654, 0.41290051, 0.19561071, 0.16284783, 0.97016248, 0.71725408, 0.87702738, 0.31244595, 0.76615487, 0.20754036, 0.57871812, 0.07214068, 0.40356048, 0.12149553, 0.53222417, 0.9976855, 0.12536346, 0.80930099, 0.50962849, 0.94555126, 0.33364763]\n"
     ]
    }
   ],
   "source": [
    "list3=[j for i in a for j in i]\n",
    "print(list3)"
   ]
  },
  {
   "cell_type": "markdown",
   "metadata": {},
   "source": [
    "#### 4. Añade una condición a la comprensión de lista anterior para que solo se impriman los valores mayores o iguales a 0.5."
   ]
  },
  {
   "cell_type": "code",
   "execution_count": 6,
   "metadata": {},
   "outputs": [
    {
     "name": "stdout",
     "output_type": "stream",
     "text": [
      "[0.84062117, 0.7876326, 0.77109654, 0.81835917, 0.87645456, 0.7066597, 0.57433389, 0.92796258, 0.69814654, 0.97016248, 0.71725408, 0.87702738, 0.76615487, 0.57871812, 0.53222417, 0.9976855, 0.80930099, 0.50962849, 0.94555126]\n"
     ]
    }
   ],
   "source": [
    "list4=[j for i in a for j in i if j>=0.5]\n",
    "print(list4)"
   ]
  },
  {
   "cell_type": "markdown",
   "metadata": {},
   "source": [
    "#### 5. Usa una comprensión de lista para crear e imprimir una lista que contenga todos los elementos del siguiente array de 5 x 2 x 3."
   ]
  },
  {
   "cell_type": "code",
   "execution_count": 7,
   "metadata": {},
   "outputs": [],
   "source": [
    "b = [[[0.55867166, 0.06210792, 0.08147297],\n",
    "        [0.82579068, 0.91512478, 0.06833034]],\n",
    "\n",
    "       [[0.05440634, 0.65857693, 0.30296619],\n",
    "        [0.06769833, 0.96031863, 0.51293743]],\n",
    "\n",
    "       [[0.09143215, 0.71893382, 0.45850679],\n",
    "        [0.58256464, 0.59005654, 0.56266457]],\n",
    "\n",
    "       [[0.71600294, 0.87392666, 0.11434044],\n",
    "        [0.8694668 , 0.65669313, 0.10708681]],\n",
    "\n",
    "       [[0.07529684, 0.46470767, 0.47984544],\n",
    "        [0.65368638, 0.14901286, 0.23760688]]];"
   ]
  },
  {
   "cell_type": "code",
   "execution_count": 8,
   "metadata": {},
   "outputs": [
    {
     "name": "stdout",
     "output_type": "stream",
     "text": [
      "[0.55867166, 0.06210792, 0.08147297, 0.82579068, 0.91512478, 0.06833034, 0.05440634, 0.65857693, 0.30296619, 0.06769833, 0.96031863, 0.51293743, 0.09143215, 0.71893382, 0.45850679, 0.58256464, 0.59005654, 0.56266457, 0.71600294, 0.87392666, 0.11434044, 0.8694668, 0.65669313, 0.10708681, 0.07529684, 0.46470767, 0.47984544, 0.65368638, 0.14901286, 0.23760688]\n"
     ]
    }
   ],
   "source": [
    "list5=[k for i in b for j in i for k in j]\n",
    "print(list5)"
   ]
  },
  {
   "cell_type": "markdown",
   "metadata": {},
   "source": [
    "#### 6. Añade una condición a la comprensión de lista anterior para que se imprima el último valor en cada subarray, pero solo si es menor o igual a 0.5."
   ]
  },
  {
   "cell_type": "code",
   "execution_count": 9,
   "metadata": {},
   "outputs": [
    {
     "name": "stdout",
     "output_type": "stream",
     "text": [
      "[0.08147297, 0.06833034, 0.30296619, 0.45850679, 0.11434044, 0.10708681, 0.47984544, 0.23760688]\n"
     ]
    }
   ],
   "source": [
    "list6=[k for i in b for j in i for k in j if k==j[-1] and k<=0.5]\n",
    "print(list6)"
   ]
  },
  {
   "cell_type": "code",
   "execution_count": 10,
   "metadata": {},
   "outputs": [
    {
     "name": "stdout",
     "output_type": "stream",
     "text": [
      "[0.08147297, 0.06833034, 0.30296619, 0.45850679, 0.11434044, 0.10708681, 0.47984544, 0.23760688]\n"
     ]
    }
   ],
   "source": [
    "list7=[j[-1] for i in b for j in i if j[-1]<=0.5 ]\n",
    "print(list7)"
   ]
  },
  {
   "cell_type": "code",
   "execution_count": 11,
   "metadata": {},
   "outputs": [
    {
     "data": {
      "text/plain": [
       "True"
      ]
     },
     "execution_count": 11,
     "metadata": {},
     "output_type": "execute_result"
    }
   ],
   "source": [
    "list6==list7"
   ]
  },
  {
   "cell_type": "markdown",
   "metadata": {},
   "source": [
    "### Bonus\n",
    "\n",
    "Intenta resolver estas katas usando comprensiones de listas.\n",
    "\n",
    "**Fácil**\n",
    "- [Insertar valores](https://www.codewars.com/kata/invert-values)"
   ]
  },
  {
   "cell_type": "code",
   "execution_count": 12,
   "metadata": {},
   "outputs": [
    {
     "name": "stdout",
     "output_type": "stream",
     "text": [
      "[-1, 2, -3, 4, -5]\n"
     ]
    }
   ],
   "source": [
    "input_=[1,-2,3,-4,5]\n",
    "list_=[-i for i in input_]\n",
    "print(list_)"
   ]
  },
  {
   "cell_type": "code",
   "execution_count": 13,
   "metadata": {},
   "outputs": [
    {
     "data": {
      "text/plain": [
       "[1, -2, 3, -4, 5]"
      ]
     },
     "execution_count": 13,
     "metadata": {},
     "output_type": "execute_result"
    }
   ],
   "source": [
    "def invert(input_):\n",
    "    return([-i for i in input_])\n",
    "invert(invert(input_))"
   ]
  },
  {
   "cell_type": "markdown",
   "metadata": {},
   "source": [
    "- [Suma Cuadrado(n)](https://www.codewars.com/kata/square-n-sum)\n"
   ]
  },
  {
   "cell_type": "code",
   "execution_count": 14,
   "metadata": {},
   "outputs": [
    {
     "name": "stdout",
     "output_type": "stream",
     "text": [
      "[1, 4, 4]\n"
     ]
    }
   ],
   "source": [
    "list_nums=[1,2,2]\n",
    "print([i**2 for i in list_nums])"
   ]
  },
  {
   "cell_type": "code",
   "execution_count": 15,
   "metadata": {},
   "outputs": [
    {
     "name": "stdout",
     "output_type": "stream",
     "text": [
      "[1, 4, 4]\n"
     ]
    }
   ],
   "source": [
    "def square_sum(list_nums):\n",
    "    return([i**2 for i in list_nums])\n",
    "print(square_sum(list_nums))"
   ]
  },
  {
   "cell_type": "markdown",
   "metadata": {},
   "source": [
    "- [Digitalizar](https://www.codewars.com/kata/digitize)"
   ]
  },
  {
   "cell_type": "code",
   "execution_count": 16,
   "metadata": {},
   "outputs": [
    {
     "name": "stdout",
     "output_type": "stream",
     "text": [
      "['1', '2', '3']\n"
     ]
    }
   ],
   "source": [
    "num=123\n",
    "print([i for i in str(num)])"
   ]
  },
  {
   "cell_type": "code",
   "execution_count": 17,
   "metadata": {},
   "outputs": [
    {
     "name": "stdout",
     "output_type": "stream",
     "text": [
      "['1', '2', '3']\n"
     ]
    }
   ],
   "source": [
    "def digitize(num):\n",
    "    return([i for i in str(num)])\n",
    "print(digitize(num))"
   ]
  },
  {
   "cell_type": "markdown",
   "metadata": {},
   "source": [
    "- [Filtrado de listas](https://www.codewars.com/kata/list-filtering)"
   ]
  },
  {
   "cell_type": "code",
   "execution_count": 18,
   "metadata": {},
   "outputs": [
    {
     "name": "stdout",
     "output_type": "stream",
     "text": [
      "[1, 2, 123]\n"
     ]
    }
   ],
   "source": [
    "list1=[1,2,'aasf','1','123',123]\n",
    "print([i for i in list1 if type(i)!=str])"
   ]
  },
  {
   "cell_type": "code",
   "execution_count": 19,
   "metadata": {},
   "outputs": [
    {
     "name": "stdout",
     "output_type": "stream",
     "text": [
      "[1, 2, 123]\n"
     ]
    }
   ],
   "source": [
    "def filter_list(list1):\n",
    "    return([i for i in list1 if type(i)!=str])\n",
    "print(filter_list(list1))"
   ]
  },
  {
   "cell_type": "markdown",
   "metadata": {},
   "source": [
    "- [Lista aritmética](https://www.codewars.com/kata/541da001259d9ca85d000688)"
   ]
  },
  {
   "cell_type": "code",
   "execution_count": 20,
   "metadata": {},
   "outputs": [
    {
     "name": "stdout",
     "output_type": "stream",
     "text": [
      "[4, 6, 8, 10, 12, 14, 16, 18]\n"
     ]
    }
   ],
   "source": [
    "first=4\n",
    "c=2\n",
    "l=8\n",
    "print([first + i*c for i in range(0,l)])"
   ]
  },
  {
   "cell_type": "code",
   "execution_count": 21,
   "metadata": {},
   "outputs": [
    {
     "name": "stdout",
     "output_type": "stream",
     "text": [
      "[4, 6, 8, 10, 12, 14, 16, 18]\n"
     ]
    }
   ],
   "source": [
    "def arithmetic_list(first,c,l):\n",
    "    return([first + i*c for i in range(0,l)])\n",
    "print(arithmetic_list(first,c,l))"
   ]
  },
  {
   "cell_type": "markdown",
   "metadata": {},
   "source": [
    "**Medio**\n",
    "- [Múltiplos de 3 o 5](https://www.codewars.com/kata/514b92a657cdc65150000006)"
   ]
  },
  {
   "cell_type": "code",
   "execution_count": 22,
   "metadata": {},
   "outputs": [
    {
     "name": "stdout",
     "output_type": "stream",
     "text": [
      "78\n"
     ]
    }
   ],
   "source": [
    "num=20\n",
    "if num>0: \n",
    "    list_ =sum([i for i in range(0,num) if (i % 3 == 0 or i % 5 == 0)]) \n",
    "else:\n",
    "    list_=0\n",
    "print(list_)"
   ]
  },
  {
   "cell_type": "code",
   "execution_count": 23,
   "metadata": {},
   "outputs": [
    {
     "name": "stdout",
     "output_type": "stream",
     "text": [
      "78\n"
     ]
    }
   ],
   "source": [
    "def multiples_3_or_5(num):\n",
    "    if num>0: \n",
    "        list_ =sum([i for i in range(0,num) if (i % 3 == 0 or i % 5 == 0)]) \n",
    "    else:\n",
    "        list_=0\n",
    "    return(list_)\n",
    "print(multiples_3_or_5(num))"
   ]
  },
  {
   "cell_type": "markdown",
   "metadata": {},
   "source": [
    "- [Conteo de positivos / suma de negativos](https://www.codewars.com/kata/count-of-positives-slash-sum-of-negatives)"
   ]
  },
  {
   "cell_type": "code",
   "execution_count": 24,
   "metadata": {},
   "outputs": [
    {
     "name": "stdout",
     "output_type": "stream",
     "text": [
      "[10, -65]\n"
     ]
    }
   ],
   "source": [
    "input1 = [1, 2, 3, 4, 5, 6, 7, 8, 9, 10, -11, -12, -13, -14, -15]\n",
    "if input1 is None or len(input1)==0:\n",
    "    list0 = list()\n",
    "else:\n",
    "    list0 = [sum([1 for i in input1 if i > 0]), sum([i for i in input1 if i < 0])]\n",
    "print(list0)"
   ]
  },
  {
   "cell_type": "code",
   "execution_count": 25,
   "metadata": {},
   "outputs": [
    {
     "name": "stdout",
     "output_type": "stream",
     "text": [
      "[10, -65]\n"
     ]
    }
   ],
   "source": [
    "def count_positives_sum_negatives(input1):\n",
    "    if input1 is None or len(input1)==0:\n",
    "        list0 = list()\n",
    "    else:\n",
    "        list0 = [sum([1 for i in input1 if i > 0]), sum([i for i in input1 if i < 0])]\n",
    "    return(list0)\n",
    "print(count_positives_sum_negatives(input1))    "
   ]
  },
  {
   "cell_type": "markdown",
   "metadata": {},
   "source": [
    "- [Categorizar nuevo miembro](https://www.codewars.com/kata/5502c9e7b3216ec63c0001aa)"
   ]
  },
  {
   "cell_type": "code",
   "execution_count": 26,
   "metadata": {},
   "outputs": [
    {
     "name": "stdout",
     "output_type": "stream",
     "text": [
      "['Open', 'Open', 'Senior', 'Open', 'Open', 'Senior']\n"
     ]
    }
   ],
   "source": [
    "input2 =  [[18, 20], [45, 2], [61, 12], [37, 6], [21, 21], [78, 9]]\n",
    "list_= [\"Senior\" if(i[0]>=55 and i[1]>7) else \"Open\" for i in input2]\n",
    "print(list_)        "
   ]
  },
  {
   "cell_type": "code",
   "execution_count": 27,
   "metadata": {},
   "outputs": [
    {
     "name": "stdout",
     "output_type": "stream",
     "text": [
      "['Open', 'Open', 'Senior', 'Open', 'Open', 'Senior']\n"
     ]
    }
   ],
   "source": [
    "def categorize(input2):\n",
    "    return([\"Senior\" if(i[0]>=55 and i[1]>7) else \"Open\" for i in input2])\n",
    "print(categorize(input2))"
   ]
  },
  {
   "cell_type": "markdown",
   "metadata": {},
   "source": [
    "**Avanzado**\n",
    "- [Contador de tiempo en cola](https://www.codewars.com/kata/queue-time-counter)"
   ]
  },
  {
   "cell_type": "code",
   "execution_count": 28,
   "metadata": {},
   "outputs": [
    {
     "name": "stdout",
     "output_type": "stream",
     "text": [
      "====================================\n",
      "fila: [2, 5, 3, 4, 6]\n",
      "posicion en la fila: 3\n",
      "tiempo de espera: 0 minutos\n",
      "====================================\n",
      "fila: [5, 3, 4, 6, 1]\n",
      "posicion en la fila: 2\n",
      "tiempo de espera: 1 minutos\n",
      "====================================\n",
      "fila: [3, 4, 6, 1, 4]\n",
      "posicion en la fila: 1\n",
      "tiempo de espera: 2 minutos\n",
      "====================================\n",
      "fila: [4, 6, 1, 4, 2]\n",
      "posicion en la fila: 5\n",
      "tiempo de espera: 3 minutos\n",
      "====================================\n",
      "fila: [6, 1, 4, 2, 3]\n",
      "posicion en la fila: 4\n",
      "tiempo de espera: 4 minutos\n",
      "====================================\n",
      "fila: [1, 4, 2, 3, 5]\n",
      "posicion en la fila: 3\n",
      "tiempo de espera: 5 minutos\n",
      "====================================\n",
      "fila: [4, 2, 3, 5, 0]\n",
      "posicion en la fila: 2\n",
      "tiempo de espera: 6 minutos\n",
      "====================================\n",
      "fila: [2, 3, 5, 0, 3]\n",
      "posicion en la fila: 1\n",
      "tiempo de espera: 7 minutos\n",
      "====================================\n",
      "fila: [3, 5, 0, 3, 1]\n",
      "posicion en la fila: 5\n",
      "tiempo de espera: 8 minutos\n",
      "====================================\n",
      "fila: [5, 0, 3, 1, 2]\n",
      "posicion en la fila: 4\n",
      "tiempo de espera: 9 minutos\n",
      "====================================\n",
      "fila: [0, 3, 1, 2, 4]\n",
      "posicion en la fila: 3\n",
      "tiempo de espera: 10 minutos\n",
      "====================================\n",
      "fila: [3, 1, 2, 4, -1]\n",
      "posicion en la fila: 2\n",
      "tiempo de espera: 11 minutos\n",
      "====================================\n",
      "fila: [1, 2, 4, -1, 2]\n",
      "posicion en la fila: 1\n",
      "tiempo de espera: 12 minutos\n"
     ]
    }
   ],
   "source": [
    "fila=[2, 5, 3, 4, 6]\n",
    "posicion=3\n",
    "\n",
    "tiempo = 0\n",
    "while(fila[posicion-1]>0):\n",
    "    print(\"====================================\")\n",
    "    print(f\"fila: {fila}\")\n",
    "    print(f\"posicion en la fila: {posicion}\")\n",
    "    print(f\"tiempo de espera: {tiempo} minutos\")\n",
    "    fila=[fila[i+1] if i+1<len(fila) else fila[0]-1  for i in range(0,len(fila))]\n",
    "    posicion-=1\n",
    "    if((posicion-1)==-1):\n",
    "        posicion=len(fila)\n",
    "    tiempo+=1"
   ]
  },
  {
   "cell_type": "code",
   "execution_count": 29,
   "metadata": {},
   "outputs": [
    {
     "name": "stdout",
     "output_type": "stream",
     "text": [
      "====================================\n",
      "fila: [2, 5, 3, 4, 6]\n",
      "posicion en la fila: 3\n",
      "tiempo de espera: 0 minutos\n",
      "====================================\n",
      "fila: [5, 3, 4, 6, 1]\n",
      "posicion en la fila: 2\n",
      "tiempo de espera: 1 minutos\n",
      "====================================\n",
      "fila: [3, 4, 6, 1, 4]\n",
      "posicion en la fila: 1\n",
      "tiempo de espera: 2 minutos\n",
      "====================================\n",
      "fila: [4, 6, 1, 4, 2]\n",
      "posicion en la fila: 5\n",
      "tiempo de espera: 3 minutos\n",
      "====================================\n",
      "fila: [6, 1, 4, 2, 3]\n",
      "posicion en la fila: 4\n",
      "tiempo de espera: 4 minutos\n",
      "====================================\n",
      "fila: [1, 4, 2, 3, 5]\n",
      "posicion en la fila: 3\n",
      "tiempo de espera: 5 minutos\n",
      "====================================\n",
      "fila: [4, 2, 3, 5, 0]\n",
      "posicion en la fila: 2\n",
      "tiempo de espera: 6 minutos\n",
      "====================================\n",
      "fila: [2, 3, 5, 0, 3]\n",
      "posicion en la fila: 1\n",
      "tiempo de espera: 7 minutos\n",
      "====================================\n",
      "fila: [3, 5, 0, 3, 1]\n",
      "posicion en la fila: 5\n",
      "tiempo de espera: 8 minutos\n",
      "====================================\n",
      "fila: [5, 0, 3, 1, 2]\n",
      "posicion en la fila: 4\n",
      "tiempo de espera: 9 minutos\n",
      "====================================\n",
      "fila: [0, 3, 1, 2, 4]\n",
      "posicion en la fila: 3\n",
      "tiempo de espera: 10 minutos\n",
      "====================================\n",
      "fila: [3, 1, 2, 4, -1]\n",
      "posicion en la fila: 2\n",
      "tiempo de espera: 11 minutos\n",
      "====================================\n",
      "fila: [1, 2, 4, -1, 2]\n",
      "posicion en la fila: 1\n",
      "tiempo de espera: 12 minutos\n"
     ]
    }
   ],
   "source": [
    "def time_counter(fila,posicion):\n",
    "    tiempo = 0\n",
    "    while(fila[posicion-1]>0):\n",
    "        print(\"====================================\")\n",
    "        print(f\"fila: {fila}\")\n",
    "        print(f\"posicion en la fila: {posicion}\")\n",
    "        print(f\"tiempo de espera: {tiempo} minutos\")\n",
    "        fila=[fila[i+1] if i+1<len(fila) else fila[0]-1  for i in range(0,len(fila))]\n",
    "        posicion-=1\n",
    "        if((posicion-1)==-1):\n",
    "            posicion=len(fila)\n",
    "        tiempo+=1\n",
    "\n",
    "fila=[2, 5, 3, 4, 6]\n",
    "posicion=3\n",
    "time_counter(fila,posicion)"
   ]
  }
 ],
 "metadata": {
  "kernelspec": {
   "display_name": "Python 3 (ipykernel)",
   "language": "python",
   "name": "python3"
  },
  "language_info": {
   "codemirror_mode": {
    "name": "ipython",
    "version": 3
   },
   "file_extension": ".py",
   "mimetype": "text/x-python",
   "name": "python",
   "nbconvert_exporter": "python",
   "pygments_lexer": "ipython3",
   "version": "3.10.12"
  },
  "vscode": {
   "interpreter": {
    "hash": "aee8b7b246df8f9039afb4144a1f6fd8d2ca17a180786b69acc140d282b71a49"
   }
  }
 },
 "nbformat": 4,
 "nbformat_minor": 4
}
